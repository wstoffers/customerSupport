{
 "cells": [
  {
   "cell_type": "markdown",
   "metadata": {},
   "source": [
    "# Issue with getPeopleByTrack\n",
    "---\n",
    "The REST API responds as expected in most cases."
   ]
  },
  {
   "cell_type": "code",
   "execution_count": 1,
   "metadata": {},
   "outputs": [],
   "source": [
    "import requests, json\n",
    "session = requests.Session()\n",
    "temporaryKey = 'Zjc3NTliODgyZjMwMDFiYjlkMmZkYTlmYjRkZTlhZjRraW1pMTYwMjI4NzcwNQ'\n",
    "session.headers.update({'Authorization': f'Bearer {temporaryKey}'})"
   ]
  },
  {
   "cell_type": "markdown",
   "metadata": {},
   "source": [
    "Bershtein Law CEO approved the public release of this API key for troubleshooting, since it is tied to a temporary/test company.\n",
    "\n",
    "The company is returned as expected:"
   ]
  },
  {
   "cell_type": "code",
   "execution_count": 2,
   "metadata": {},
   "outputs": [
    {
     "name": "stdout",
     "output_type": "stream",
     "text": [
      "200\n",
      "Northeast Corridor Productions\n"
     ]
    }
   ],
   "source": [
    "companyResponse = session.get('https://app.trackwithease.com/api/api/getCompany')\n",
    "print(companyResponse.status_code)\n",
    "print(companyResponse.json()['result'][0]['name'])"
   ]
  },
  {
   "cell_type": "code",
   "execution_count": 3,
   "metadata": {},
   "outputs": [
    {
     "name": "stdout",
     "output_type": "stream",
     "text": [
      "200\n"
     ]
    }
   ],
   "source": [
    "seller, buyer = 'Stark', 'Wayne'\n",
    "street, town, state, zipCode = '10880 Malibu Point', 'Malibu', 'California', '90265'\n",
    "addTrackResponse = session.post('https://app.trackwithease.com/api/api/add_track',\n",
    "                                {'name': f'{seller} to {buyer}; {street}, {town}, {state} {zipCode}',\n",
    "                                 'folder': 0})\n",
    "print(addTrackResponse.status_code)"
   ]
  },
  {
   "cell_type": "markdown",
   "metadata": {},
   "source": [
    "The status code appears to always be returned as `200` since `response.json()['error']` is used instead. Created tracks seem to be named properly:"
   ]
  },
  {
   "cell_type": "code",
   "execution_count": 4,
   "metadata": {},
   "outputs": [
    {
     "name": "stdout",
     "output_type": "stream",
     "text": [
      "Stark to Wayne; 10880 Malibu Point, Malibu, California 90265\n"
     ]
    }
   ],
   "source": [
    "trackId = addTrackResponse.json()['result']['track_id']\n",
    "getAllTracksResponse = session.get('https://app.trackwithease.com/api/api/getTracks')\n",
    "for track in getAllTracksResponse.json()['result']:\n",
    "    print(track['name'])\n"
   ]
  },
  {
   "cell_type": "markdown",
   "metadata": {},
   "source": [
    "Information can be added to the track profile:"
   ]
  },
  {
   "cell_type": "code",
   "execution_count": 5,
   "metadata": {},
   "outputs": [
    {
     "name": "stdout",
     "output_type": "stream",
     "text": [
      "{'address': '10880 Malibu Point', 'city': 'Malibu', 'state': 'California', 'zip_code': '90265', 'country': 'United States'}\n"
     ]
    }
   ],
   "source": [
    "addressKey = 'property_address'\n",
    "updateTrackProfileResponse = session.post('https://app.trackwithease.com/api/api/updateTrackProfile',\n",
    "                                          {'track_id': trackId,\n",
    "                                           f'{addressKey}[address]': street,\n",
    "                                           f'{addressKey}[city]': town,\n",
    "                                           f'{addressKey}[state]': state,\n",
    "                                           f'{addressKey}[zip_code]': zipCode,\n",
    "                                           f'{addressKey}[country]': 'United States'})\n",
    "getTrackProfileResponse = session.post('https://app.trackwithease.com/api/api/getTrackProfile',\n",
    "                                       {'track': trackId})\n",
    "print(getTrackProfileResponse.json()['result'][addressKey])"
   ]
  },
  {
   "cell_type": "markdown",
   "metadata": {},
   "source": [
    "All people from the company can be acquired:"
   ]
  },
  {
   "cell_type": "code",
   "execution_count": 6,
   "metadata": {},
   "outputs": [
    {
     "name": "stdout",
     "output_type": "stream",
     "text": [
      "Andrew\n"
     ]
    }
   ],
   "source": [
    "getAllPeopleResponse = session.get('https://app.trackwithease.com/api/api/getPeople')\n",
    "for personInfo in getAllPeopleResponse.json()['result']:\n",
    "    print(personInfo['first_name'])"
   ]
  },
  {
   "cell_type": "markdown",
   "metadata": {},
   "source": [
    "Acquiring people by track still returns a `200` status:"
   ]
  },
  {
   "cell_type": "code",
   "execution_count": 7,
   "metadata": {},
   "outputs": [
    {
     "name": "stdout",
     "output_type": "stream",
     "text": [
      "200\n"
     ]
    }
   ],
   "source": [
    "getTrackPeopleResponse = session.post('https://app.trackwithease.com/api/api/getPeopleByTrack',\n",
    "                                      {'track': trackId})\n",
    "print(getTrackPeopleResponse.status_code)"
   ]
  },
  {
   "cell_type": "markdown",
   "metadata": {},
   "source": [
    "Can't get `error` code back from JSON object if response object cannot convert to JSON:"
   ]
  },
  {
   "cell_type": "code",
   "execution_count": 8,
   "metadata": {},
   "outputs": [
    {
     "name": "stdout",
     "output_type": "stream",
     "text": [
      "JSONDecodeError raised because...Expecting value: line 2 column 1 (char 1)\n"
     ]
    }
   ],
   "source": [
    "try:\n",
    "    print(getTrackPeopleResponse.json()['error'])\n",
    "except json.JSONDecodeError as error:\n",
    "    print(f'JSONDecodeError raised because...{error}')"
   ]
  },
  {
   "cell_type": "markdown",
   "metadata": {},
   "source": [
    "Issue does not appear to be JSON specific:"
   ]
  },
  {
   "cell_type": "code",
   "execution_count": 9,
   "metadata": {},
   "outputs": [
    {
     "name": "stdout",
     "output_type": "stream",
     "text": [
      "\n",
      "<div style=\"border:1px solid #990000;padding-left:20px;margin:0 0 10px 0;\">\n",
      "\n",
      "<h4>A PHP Error was encountered</h4>\n",
      "\n",
      "<p>Severity: Notice</p>\n",
      "<p>Message:  Undefined variable: people</p>\n",
      "<p>Filename: api/Api.php</p>\n",
      "<p>Line Number: 556</p>\n",
      "\n",
      "\n",
      "\t<p>Backtrace:</p>\n",
      "\t\n",
      "\t\t\n",
      "\t\n",
      "\t\t\n",
      "\t\n",
      "\t\t\n",
      "\t\t\t<p style=\"margin-left:10px\">\n",
      "\t\t\tFile: /home/twe15bstone/public_html/application/controllers/api/Api.php<br />\n",
      "\t\t\tLine: 556<br />\n",
      "\t\t\tFunction: _error_handler\t\t\t</p>\n",
      "\n",
      "\t\t\n",
      "\t\n",
      "\t\t\n",
      "\t\n",
      "\t\t\n",
      "\t\t\t<p style=\"margin-left:10px\">\n",
      "\t\t\tFile: /home/twe15bstone/public_html/index.php<br />\n",
      "\t\t\tLine: 293<br />\n",
      "\t\t\tFunction: require_once\t\t\t</p>\n",
      "\n",
      "\t\t\n",
      "\t\n",
      "\n",
      "</div>\n",
      "<div style=\"border:1px solid #990000;padding-left:20px;margin:0 0 10px 0;\">\n",
      "\n",
      "<h4>A PHP Error was encountered</h4>\n",
      "\n",
      "<p>Severity: Notice</p>\n",
      "<p>Message:  Trying to get property of non-object</p>\n",
      "<p>Filename: api/Api.php</p>\n",
      "<p>Line Number: 556</p>\n",
      "\n",
      "\n",
      "\t<p>Backtrace:</p>\n",
      "\t\n",
      "\t\t\n",
      "\t\n",
      "\t\t\n",
      "\t\n",
      "\t\t\n",
      "\t\t\t<p style=\"margin-left:10px\">\n",
      "\t\t\tFile: /home/twe15bstone/public_html/application/controllers/api/Api.php<br />\n",
      "\t\t\tLine: 556<br />\n",
      "\t\t\tFunction: _error_handler\t\t\t</p>\n",
      "\n",
      "\t\t\n",
      "\t\n",
      "\t\t\n",
      "\t\n",
      "\t\t\n",
      "\t\t\t<p style=\"margin-left:10px\">\n",
      "\t\t\tFile: /home/twe15bstone/public_html/index.php<br />\n",
      "\t\t\tLine: 293<br />\n",
      "\t\t\tFunction: require_once\t\t\t</p>\n",
      "\n",
      "\t\t\n",
      "\t\n",
      "\n",
      "</div>...\n"
     ]
    }
   ],
   "source": [
    "print(f'{getTrackPeopleResponse.text[:1222]}...')"
   ]
  }
 ],
 "metadata": {
  "kernelspec": {
   "display_name": "Python 3",
   "language": "python",
   "name": "python3"
  },
  "language_info": {
   "codemirror_mode": {
    "name": "ipython",
    "version": 3
   },
   "file_extension": ".py",
   "mimetype": "text/x-python",
   "name": "python",
   "nbconvert_exporter": "python",
   "pygments_lexer": "ipython3",
   "version": "3.7.8"
  }
 },
 "nbformat": 4,
 "nbformat_minor": 4
}
